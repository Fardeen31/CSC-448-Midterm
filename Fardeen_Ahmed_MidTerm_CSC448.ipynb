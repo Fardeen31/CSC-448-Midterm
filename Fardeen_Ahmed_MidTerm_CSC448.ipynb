{
 "cells": [
  {
   "cell_type": "raw",
   "id": "15840304-f5a1-47d4-bacd-01887bdaf08d",
   "metadata": {},
   "source": [
    "Fardeen Ahmed\n",
    "cuny ID: 23826620\n",
    "CSC 44800\n",
    "MidTerm\n",
    "\n",
    "\n",
    "\n",
    "\n",
    "This notebook implements Depth First Search and Breath First Search in Python. this is part of the CSC 448 Midterm.\n",
    "\n",
    "\n",
    "\n",
    "                                                                       A               \n",
    "                                                                   /       \\\n",
    "                                                                  /         \\\n",
    "                                                                 /           \\\n",
    "                                                                B             F\n",
    "                                                             /    \\         /   \\\n",
    "                                                            /      \\       /     \\\n",
    "                                                           /        \\     /       \\\n",
    "                                                          C          D   G         H\n",
    "                                                         /              /  \\      /\n",
    "                                                        /              /    \\    /\n",
    "                                                       /              /      \\  /\n",
    "                                                      E              I        J K\n",
    "\n",
    "\n",
    "The result of Depth First Search should be:    A -> B -> C -> E -> D -> F -> G -> I -> J -> H -> K\n"
   ]
  },
  {
   "cell_type": "code",
   "execution_count": 11,
   "id": "da331a95-ccbc-4e44-9ad0-51fa456b48e8",
   "metadata": {},
   "outputs": [],
   "source": [
    "graph ={\n",
    "    'A' : ['B', 'F'],\n",
    "    'B' : ['C', 'D'],\n",
    "    'C' : ['E'],\n",
    "    'D' : [],\n",
    "    'E' : [],\n",
    "    'F' : ['G', 'H'],\n",
    "    'G' : ['I', 'J'],\n",
    "    'H' : ['K'],\n",
    "    'I' : [],\n",
    "    'J' : [],\n",
    "    'K' : []\n",
    "    \n",
    "}\n",
    "\n",
    "visited = set()"
   ]
  },
  {
   "cell_type": "code",
   "execution_count": 12,
   "id": "37d599d5-e1d4-437d-9d19-c8efac0f4e15",
   "metadata": {},
   "outputs": [
    {
     "name": "stdout",
     "output_type": "stream",
     "text": [
      "Depth First Search: \n",
      "A B C E D F G I J H K "
     ]
    }
   ],
   "source": [
    "def dfs(visited, graph, node):\n",
    "    if node not in visited:\n",
    "        print(node, end =\" \" )\n",
    "        visited.add(node)\n",
    "        for things in graph[node]:\n",
    "            dfs(visited, graph, things)\n",
    "\n",
    "print(\"Depth First Search: \")\n",
    "dfs(visited, graph, 'A')"
   ]
  },
  {
   "cell_type": "code",
   "execution_count": null,
   "id": "7211c1da-3808-4d1c-9e45-424a8d4a00e8",
   "metadata": {},
   "outputs": [],
   "source": []
  },
  {
   "cell_type": "code",
   "execution_count": null,
   "id": "ef8f7af8-f51a-41ea-9863-83c6d1a20933",
   "metadata": {},
   "outputs": [],
   "source": []
  },
  {
   "cell_type": "raw",
   "id": "a35056ce-a803-489f-9bce-1182ef20bf84",
   "metadata": {},
   "source": [
    "Breath First Search in Python.\n",
    "\n",
    "\n",
    "\n",
    "                                                                       A               \n",
    "                                                                   /       \\\n",
    "                                                                  /         \\\n",
    "                                                                 /           \\\n",
    "                                                                B             F\n",
    "                                                             /    \\         /   \\\n",
    "                                                            /      \\       /     \\\n",
    "                                                           /        \\     /       \\\n",
    "                                                          C          D   G         H\n",
    "                                                         /              /  \\      /\n",
    "                                                        /              /    \\    /\n",
    "                                                       /              /      \\  /\n",
    "                                                      E              I        J K\n",
    "\n",
    "\n",
    "The result of Breath First Search should be:    A -> B -> F -> C -> D -> G -> H -> E -> I -> J -> K"
   ]
  },
  {
   "cell_type": "code",
   "execution_count": 20,
   "id": "d1453a90-1227-4a5f-a002-2e69b3bc61bf",
   "metadata": {},
   "outputs": [],
   "source": [
    "graph ={\n",
    "    'A' : ['B', 'F'],\n",
    "    'B' : ['C', 'D'],\n",
    "    'C' : ['E'],\n",
    "    'D' : [],\n",
    "    'E' : [],\n",
    "    'F' : ['G', 'H'],\n",
    "    'G' : ['I', 'J'],\n",
    "    'H' : ['K'],\n",
    "    'I' : [],\n",
    "    'J' : [],\n",
    "    'K' : []\n",
    "    \n",
    "}\n",
    "\n",
    "visited = []\n",
    "queue = []"
   ]
  },
  {
   "cell_type": "code",
   "execution_count": 21,
   "id": "e915206c-2d07-4dcb-b24a-2e208f84a25a",
   "metadata": {},
   "outputs": [
    {
     "name": "stdout",
     "output_type": "stream",
     "text": [
      "Following is the Breadth-First Search\n",
      "A B F C D G H E I J K "
     ]
    }
   ],
   "source": [
    "def bfs(visited, graph, node): #function for BFS\n",
    "  visited.append(node)\n",
    "  queue.append(node)\n",
    "\n",
    "  while queue:          # Creating loop to visit each node\n",
    "    move = queue.pop(0) \n",
    "    print (move, end = \" \") \n",
    "\n",
    "    for things in graph[m]:\n",
    "      if things not in visited:\n",
    "        visited.append(things)\n",
    "        queue.append(things)\n",
    "\n",
    "# Driver Code\n",
    "print(\"Following is the Breadth-First Search\")\n",
    "bfs(visited, graph, 'A') \n"
   ]
  },
  {
   "cell_type": "code",
   "execution_count": null,
   "id": "75db634c-4d27-4c20-a4b3-95746e930562",
   "metadata": {},
   "outputs": [],
   "source": []
  },
  {
   "cell_type": "code",
   "execution_count": null,
   "id": "969a5ac7-bd0b-49ce-a602-b3f532b5135b",
   "metadata": {},
   "outputs": [],
   "source": []
  },
  {
   "cell_type": "code",
   "execution_count": null,
   "id": "23d5dd13-3687-4cb8-b443-a65c7fa9e6f1",
   "metadata": {},
   "outputs": [],
   "source": []
  }
 ],
 "metadata": {
  "kernelspec": {
   "display_name": "Python 3 (ipykernel)",
   "language": "python",
   "name": "python3"
  },
  "language_info": {
   "codemirror_mode": {
    "name": "ipython",
    "version": 3
   },
   "file_extension": ".py",
   "mimetype": "text/x-python",
   "name": "python",
   "nbconvert_exporter": "python",
   "pygments_lexer": "ipython3",
   "version": "3.11.5"
  }
 },
 "nbformat": 4,
 "nbformat_minor": 5
}
